{
  "nbformat": 4,
  "nbformat_minor": 0,
  "metadata": {
    "colab": {
      "name": "euler_rotation.ipynb",
      "provenance": [],
      "collapsed_sections": []
    },
    "kernelspec": {
      "name": "python3",
      "display_name": "Python 3"
    }
  },
  "cells": [
    {
      "cell_type": "markdown",
      "metadata": {
        "id": "nZW-F-2Y8FVl",
        "colab_type": "text"
      },
      "source": [
        "# Euler Angle Rotation\n",
        "\n",
        "[![Open In Colab](https://colab.research.google.com/assets/colab-badge.svg)](https://colab.research.google.com/drive/1Ua6puurb9OuODAlMWJmVArg8dYh8OUTH)\n",
        "\n"
      ]
    },
    {
      "cell_type": "code",
      "metadata": {
        "id": "nb-Un29Kyszz",
        "colab_type": "code",
        "colab": {}
      },
      "source": [
        "import numpy as np"
      ],
      "execution_count": 0,
      "outputs": []
    },
    {
      "cell_type": "markdown",
      "metadata": {
        "id": "__auKhhBxRZ6",
        "colab_type": "text"
      },
      "source": [
        "# Rotation Matrix\n",
        "\n",
        "## Transforming vector from frame 1 to frame 2\n",
        "## $$p^2 = R_1^2 p^1$$\n",
        "\n",
        "## Transforming vector from frame 2 to frame 1\n",
        "## $$p^1 = R_2^1 p^2$$\n",
        "\n"
      ]
    },
    {
      "cell_type": "markdown",
      "metadata": {
        "id": "RN4GtyX9yMe4",
        "colab_type": "text"
      },
      "source": [
        "# Euler Angle Transformation: Roll $\\phi$, Pitch $\\theta$, Yaw $\\psi$\n",
        "\n",
        "## From frame 2 to frame 1: \n",
        "\n",
        "### $p^1 = R_2^1 p^2$"
      ]
    },
    {
      "cell_type": "code",
      "metadata": {
        "id": "juWKyeMAyL2A",
        "colab_type": "code",
        "colab": {}
      },
      "source": [
        "def rpy21(x, y, z):\n",
        "  \"\"\"\n",
        "  Rotation from frame 2 to frame 1 using euler angles of roll (x), pitch (y), yaw (z)\n",
        "  Order of transformation is of extreme importance. The order used is z-y-x\n",
        "  \"\"\"\n",
        "  c = np.cos\n",
        "  s = np.sin\n",
        "  R = np.array([[c(y)*c(z), s(x)*s(y)*c(z)-s(z)*c(x), c(x)*s(y)*c(z)+s(x)*s(z)],\n",
        "                [s(z)*c(y), s(x)*s(y)*s(z)+c(z)*c(x), c(x)*s(y)*s(z)-s(y)*c(z)],\n",
        "                [-s(y),     s(x)*c(y),                c(y)*c(x)               ]])\n",
        "  return R"
      ],
      "execution_count": 0,
      "outputs": []
    },
    {
      "cell_type": "markdown",
      "metadata": {
        "id": "fDo8u2BSNbrV",
        "colab_type": "text"
      },
      "source": [
        "## From frame 1 to frame 2\n",
        "\n",
        "### $p^2 = R_1^2 p^1$"
      ]
    },
    {
      "cell_type": "code",
      "metadata": {
        "id": "8sG7h-LUNZ8A",
        "colab_type": "code",
        "colab": {}
      },
      "source": [
        "def rpy12(x, y, z):\n",
        "  \"\"\"\n",
        "  Rotation from frame 1 to frame 2 using euler angles of roll (x), pitch (y), yaw (z)\n",
        "  Order of transformation is of extreme importance. The order used is z-y-x\n",
        "  \"\"\"\n",
        "  return rpy21(x, y, z).T"
      ],
      "execution_count": 0,
      "outputs": []
    },
    {
      "cell_type": "markdown",
      "metadata": {
        "id": "F9z510HzNw70",
        "colab_type": "text"
      },
      "source": [
        "### Wrappers for transformation from frame 1 to frame 2 and vice versa."
      ]
    },
    {
      "cell_type": "code",
      "metadata": {
        "id": "b0nJLU3FNv6h",
        "colab_type": "code",
        "colab": {}
      },
      "source": [
        "def rpy_euler12(roll, pitch, yaw):\n",
        "  return rpy12(x=roll, y=pitch, z=yaw)\n",
        "\n",
        "def rpy_euler21(roll, pitch, yaw):\n",
        "  return rpy21(x=roll, y=pitch, z=yaw)"
      ],
      "execution_count": 0,
      "outputs": []
    },
    {
      "cell_type": "code",
      "metadata": {
        "id": "-XUc8WscxPeY",
        "colab_type": "code",
        "outputId": "9d93d543-de4b-434d-aef6-63ccba9386d9",
        "colab": {
          "base_uri": "https://localhost:8080/",
          "height": 68
        }
      },
      "source": [
        "rpy12(z=-np.pi/2, y=-np.pi/2, x=0)"
      ],
      "execution_count": 14,
      "outputs": [
        {
          "output_type": "execute_result",
          "data": {
            "text/plain": [
              "array([[ 3.74939946e-33, -6.12323400e-17,  1.00000000e+00],\n",
              "       [ 1.00000000e+00,  6.12323400e-17,  0.00000000e+00],\n",
              "       [-6.12323400e-17,  1.00000000e+00,  6.12323400e-17]])"
            ]
          },
          "metadata": {
            "tags": []
          },
          "execution_count": 14
        }
      ]
    },
    {
      "cell_type": "code",
      "metadata": {
        "id": "uMBos9TxO4AF",
        "colab_type": "code",
        "outputId": "d2e245de-1df4-4944-c37d-0ea919765935",
        "colab": {
          "base_uri": "https://localhost:8080/",
          "height": 68
        }
      },
      "source": [
        "rpy_euler12(roll=0, pitch=-np.pi/2, yaw=-np.pi/2)"
      ],
      "execution_count": 15,
      "outputs": [
        {
          "output_type": "execute_result",
          "data": {
            "text/plain": [
              "array([[ 3.74939946e-33, -6.12323400e-17,  1.00000000e+00],\n",
              "       [ 1.00000000e+00,  6.12323400e-17,  0.00000000e+00],\n",
              "       [-6.12323400e-17,  1.00000000e+00,  6.12323400e-17]])"
            ]
          },
          "metadata": {
            "tags": []
          },
          "execution_count": 15
        }
      ]
    }
  ]
}